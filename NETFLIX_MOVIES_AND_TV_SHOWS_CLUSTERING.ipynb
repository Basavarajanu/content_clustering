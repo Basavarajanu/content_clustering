{
 "cells": [
  {
   "cell_type": "markdown",
   "metadata": {
    "id": "LGcl5Bv9ed6u"
   },
   "source": [
    "# **Problem Statement**"
   ]
  },
  {
   "cell_type": "markdown",
   "metadata": {
    "id": "8M5kyFaVjzXk"
   },
   "source": [
    "This dataset consists of tv shows and movies available on Netflix as of 2019. The dataset is collected from Flixable which is a third-party Netflix search engine.\n",
    "\n",
    "In 2018, they released an interesting report which shows that the number of TV shows on Netflix has nearly tripled since 2010. The streaming service’s number of movies has decreased by more than 2,000 titles since 2010, while its number of TV shows has nearly tripled. It will be interesting to explore what all other insights can be obtained from the same dataset.\n",
    "\n",
    "Integrating this dataset with other external datasets such as IMDB ratings, rotten tomatoes can also provide many interesting findings."
   ]
  },
  {
   "cell_type": "markdown",
   "metadata": {
    "id": "tLx5cJO8hzb1"
   },
   "source": [
    "## <b>In this  project, you are required to do </b>\n",
    "1. Exploratory Data Analysis\n",
    "\n",
    "2. Understanding what type content is available in different countries\n",
    "\n",
    "3. Is Netflix has increasingly focusing on TV rather than movies in recent years.\n",
    "4. Clustering similar content by matching text-based features\n",
    "\n"
   ]
  },
  {
   "cell_type": "markdown",
   "metadata": {
    "id": "AzGDqdC4fZ-b"
   },
   "source": [
    "# **Attribute Information**"
   ]
  },
  {
   "cell_type": "markdown",
   "metadata": {
    "id": "jhfLYargscGV"
   },
   "source": [
    "1. show_id : Unique ID for every Movie / Tv Show\n",
    "\n",
    "2. type : Identifier - A Movie or TV Show\n",
    "\n",
    "3. title : Title of the Movie / Tv Show\n",
    "\n",
    "4. director : Director of the Movie\n",
    "\n",
    "5. cast : Actors involved in the movie / show\n",
    "\n",
    "6. country : Country where the movie / show was produced\n",
    "\n",
    "7. date_added : Date it was added on Netflix\n",
    "\n",
    "8. release_year : Actual Releaseyear of the movie / show\n",
    "\n",
    "9. rating : TV Rating of the movie / show\n",
    "\n",
    "10. duration : Total Duration - in minutes or number of seasons\n",
    "\n",
    "11. listed_in : Genere\n",
    "\n",
    "12. description: The Summary description"
   ]
  },
  {
   "cell_type": "markdown",
   "metadata": {
    "id": "JZYSjIFKvkPm"
   },
   "source": [
    "**Importing all libraries**"
   ]
  },
  {
   "cell_type": "code",
   "execution_count": 1,
   "metadata": {
    "id": "JldZuswnt4P6"
   },
   "outputs": [],
   "source": [
    "# Importing the libraries\n",
    "import numpy as np\n",
    "import pandas as pd\n",
    "from numpy import math\n",
    "import seaborn as sns\n",
    "import matplotlib.pyplot as plt\n",
    "import matplotlib.ticker as mtick\n",
    "from matplotlib.pyplot import figure\n",
    "import plotly.graph_objects as go\n",
    "import plotly.offline as py\n",
    "import plotly.express as px\n",
    "from datetime import datetime\n",
    "\n",
    "import warnings\n",
    "warnings.filterwarnings('ignore')"
   ]
  },
  {
   "cell_type": "code",
   "execution_count": 2,
   "metadata": {
    "colab": {
     "base_uri": "https://localhost:8080/",
     "height": 337
    },
    "id": "sbfTS--_v_IN",
    "outputId": "d10ac280-fe52-4d04-8d84-c3108f9d17e4",
    "scrolled": true
   },
   "outputs": [
    {
     "data": {
      "text/html": [
       "<div>\n",
       "<style scoped>\n",
       "    .dataframe tbody tr th:only-of-type {\n",
       "        vertical-align: middle;\n",
       "    }\n",
       "\n",
       "    .dataframe tbody tr th {\n",
       "        vertical-align: top;\n",
       "    }\n",
       "\n",
       "    .dataframe thead th {\n",
       "        text-align: right;\n",
       "    }\n",
       "</style>\n",
       "<table border=\"1\" class=\"dataframe\">\n",
       "  <thead>\n",
       "    <tr style=\"text-align: right;\">\n",
       "      <th></th>\n",
       "      <th>show_id</th>\n",
       "      <th>type</th>\n",
       "      <th>title</th>\n",
       "      <th>director</th>\n",
       "      <th>cast</th>\n",
       "      <th>country</th>\n",
       "      <th>date_added</th>\n",
       "      <th>release_year</th>\n",
       "      <th>rating</th>\n",
       "      <th>duration</th>\n",
       "      <th>listed_in</th>\n",
       "      <th>description</th>\n",
       "    </tr>\n",
       "  </thead>\n",
       "  <tbody>\n",
       "    <tr>\n",
       "      <th>0</th>\n",
       "      <td>s1</td>\n",
       "      <td>TV Show</td>\n",
       "      <td>3%</td>\n",
       "      <td>NaN</td>\n",
       "      <td>João Miguel, Bianca Comparato, Michel Gomes, R...</td>\n",
       "      <td>Brazil</td>\n",
       "      <td>August 14, 2020</td>\n",
       "      <td>2020</td>\n",
       "      <td>TV-MA</td>\n",
       "      <td>4 Seasons</td>\n",
       "      <td>International TV Shows, TV Dramas, TV Sci-Fi &amp;...</td>\n",
       "      <td>In a future where the elite inhabit an island ...</td>\n",
       "    </tr>\n",
       "    <tr>\n",
       "      <th>1</th>\n",
       "      <td>s2</td>\n",
       "      <td>Movie</td>\n",
       "      <td>7:19</td>\n",
       "      <td>Jorge Michel Grau</td>\n",
       "      <td>Demián Bichir, Héctor Bonilla, Oscar Serrano, ...</td>\n",
       "      <td>Mexico</td>\n",
       "      <td>December 23, 2016</td>\n",
       "      <td>2016</td>\n",
       "      <td>TV-MA</td>\n",
       "      <td>93 min</td>\n",
       "      <td>Dramas, International Movies</td>\n",
       "      <td>After a devastating earthquake hits Mexico Cit...</td>\n",
       "    </tr>\n",
       "    <tr>\n",
       "      <th>2</th>\n",
       "      <td>s3</td>\n",
       "      <td>Movie</td>\n",
       "      <td>23:59</td>\n",
       "      <td>Gilbert Chan</td>\n",
       "      <td>Tedd Chan, Stella Chung, Henley Hii, Lawrence ...</td>\n",
       "      <td>Singapore</td>\n",
       "      <td>December 20, 2018</td>\n",
       "      <td>2011</td>\n",
       "      <td>R</td>\n",
       "      <td>78 min</td>\n",
       "      <td>Horror Movies, International Movies</td>\n",
       "      <td>When an army recruit is found dead, his fellow...</td>\n",
       "    </tr>\n",
       "    <tr>\n",
       "      <th>3</th>\n",
       "      <td>s4</td>\n",
       "      <td>Movie</td>\n",
       "      <td>9</td>\n",
       "      <td>Shane Acker</td>\n",
       "      <td>Elijah Wood, John C. Reilly, Jennifer Connelly...</td>\n",
       "      <td>United States</td>\n",
       "      <td>November 16, 2017</td>\n",
       "      <td>2009</td>\n",
       "      <td>PG-13</td>\n",
       "      <td>80 min</td>\n",
       "      <td>Action &amp; Adventure, Independent Movies, Sci-Fi...</td>\n",
       "      <td>In a postapocalyptic world, rag-doll robots hi...</td>\n",
       "    </tr>\n",
       "    <tr>\n",
       "      <th>4</th>\n",
       "      <td>s5</td>\n",
       "      <td>Movie</td>\n",
       "      <td>21</td>\n",
       "      <td>Robert Luketic</td>\n",
       "      <td>Jim Sturgess, Kevin Spacey, Kate Bosworth, Aar...</td>\n",
       "      <td>United States</td>\n",
       "      <td>January 1, 2020</td>\n",
       "      <td>2008</td>\n",
       "      <td>PG-13</td>\n",
       "      <td>123 min</td>\n",
       "      <td>Dramas</td>\n",
       "      <td>A brilliant group of students become card-coun...</td>\n",
       "    </tr>\n",
       "  </tbody>\n",
       "</table>\n",
       "</div>"
      ],
      "text/plain": [
       "  show_id     type  title           director  \\\n",
       "0      s1  TV Show     3%                NaN   \n",
       "1      s2    Movie   7:19  Jorge Michel Grau   \n",
       "2      s3    Movie  23:59       Gilbert Chan   \n",
       "3      s4    Movie      9        Shane Acker   \n",
       "4      s5    Movie     21     Robert Luketic   \n",
       "\n",
       "                                                cast        country  \\\n",
       "0  João Miguel, Bianca Comparato, Michel Gomes, R...         Brazil   \n",
       "1  Demián Bichir, Héctor Bonilla, Oscar Serrano, ...         Mexico   \n",
       "2  Tedd Chan, Stella Chung, Henley Hii, Lawrence ...      Singapore   \n",
       "3  Elijah Wood, John C. Reilly, Jennifer Connelly...  United States   \n",
       "4  Jim Sturgess, Kevin Spacey, Kate Bosworth, Aar...  United States   \n",
       "\n",
       "          date_added  release_year rating   duration  \\\n",
       "0    August 14, 2020          2020  TV-MA  4 Seasons   \n",
       "1  December 23, 2016          2016  TV-MA     93 min   \n",
       "2  December 20, 2018          2011      R     78 min   \n",
       "3  November 16, 2017          2009  PG-13     80 min   \n",
       "4    January 1, 2020          2008  PG-13    123 min   \n",
       "\n",
       "                                           listed_in  \\\n",
       "0  International TV Shows, TV Dramas, TV Sci-Fi &...   \n",
       "1                       Dramas, International Movies   \n",
       "2                Horror Movies, International Movies   \n",
       "3  Action & Adventure, Independent Movies, Sci-Fi...   \n",
       "4                                             Dramas   \n",
       "\n",
       "                                         description  \n",
       "0  In a future where the elite inhabit an island ...  \n",
       "1  After a devastating earthquake hits Mexico Cit...  \n",
       "2  When an army recruit is found dead, his fellow...  \n",
       "3  In a postapocalyptic world, rag-doll robots hi...  \n",
       "4  A brilliant group of students become card-coun...  "
      ]
     },
     "execution_count": 2,
     "metadata": {},
     "output_type": "execute_result"
    }
   ],
   "source": [
    "#Loading the dataset\n",
    "df = pd.read_csv('NETFLIX MOVIES AND TV SHOWS CLUSTERING.csv')\n",
    "#top 5 rows\n",
    "df.head()"
   ]
  },
  {
   "cell_type": "code",
   "execution_count": 3,
   "metadata": {
    "colab": {
     "base_uri": "https://localhost:8080/",
     "height": 337
    },
    "id": "zhYn9IuLt4UC",
    "outputId": "1429cf55-646e-418e-960e-c0fa37ab7f2c"
   },
   "outputs": [
    {
     "data": {
      "text/html": [
       "<div>\n",
       "<style scoped>\n",
       "    .dataframe tbody tr th:only-of-type {\n",
       "        vertical-align: middle;\n",
       "    }\n",
       "\n",
       "    .dataframe tbody tr th {\n",
       "        vertical-align: top;\n",
       "    }\n",
       "\n",
       "    .dataframe thead th {\n",
       "        text-align: right;\n",
       "    }\n",
       "</style>\n",
       "<table border=\"1\" class=\"dataframe\">\n",
       "  <thead>\n",
       "    <tr style=\"text-align: right;\">\n",
       "      <th></th>\n",
       "      <th>show_id</th>\n",
       "      <th>type</th>\n",
       "      <th>title</th>\n",
       "      <th>director</th>\n",
       "      <th>cast</th>\n",
       "      <th>country</th>\n",
       "      <th>date_added</th>\n",
       "      <th>release_year</th>\n",
       "      <th>rating</th>\n",
       "      <th>duration</th>\n",
       "      <th>listed_in</th>\n",
       "      <th>description</th>\n",
       "    </tr>\n",
       "  </thead>\n",
       "  <tbody>\n",
       "    <tr>\n",
       "      <th>7782</th>\n",
       "      <td>s7783</td>\n",
       "      <td>Movie</td>\n",
       "      <td>Zozo</td>\n",
       "      <td>Josef Fares</td>\n",
       "      <td>Imad Creidi, Antoinette Turk, Elias Gergi, Car...</td>\n",
       "      <td>Sweden, Czech Republic, United Kingdom, Denmar...</td>\n",
       "      <td>October 19, 2020</td>\n",
       "      <td>2005</td>\n",
       "      <td>TV-MA</td>\n",
       "      <td>99 min</td>\n",
       "      <td>Dramas, International Movies</td>\n",
       "      <td>When Lebanon's Civil War deprives Zozo of his ...</td>\n",
       "    </tr>\n",
       "    <tr>\n",
       "      <th>7783</th>\n",
       "      <td>s7784</td>\n",
       "      <td>Movie</td>\n",
       "      <td>Zubaan</td>\n",
       "      <td>Mozez Singh</td>\n",
       "      <td>Vicky Kaushal, Sarah-Jane Dias, Raaghav Chanan...</td>\n",
       "      <td>India</td>\n",
       "      <td>March 2, 2019</td>\n",
       "      <td>2015</td>\n",
       "      <td>TV-14</td>\n",
       "      <td>111 min</td>\n",
       "      <td>Dramas, International Movies, Music &amp; Musicals</td>\n",
       "      <td>A scrappy but poor boy worms his way into a ty...</td>\n",
       "    </tr>\n",
       "    <tr>\n",
       "      <th>7784</th>\n",
       "      <td>s7785</td>\n",
       "      <td>Movie</td>\n",
       "      <td>Zulu Man in Japan</td>\n",
       "      <td>NaN</td>\n",
       "      <td>Nasty C</td>\n",
       "      <td>NaN</td>\n",
       "      <td>September 25, 2020</td>\n",
       "      <td>2019</td>\n",
       "      <td>TV-MA</td>\n",
       "      <td>44 min</td>\n",
       "      <td>Documentaries, International Movies, Music &amp; M...</td>\n",
       "      <td>In this documentary, South African rapper Nast...</td>\n",
       "    </tr>\n",
       "    <tr>\n",
       "      <th>7785</th>\n",
       "      <td>s7786</td>\n",
       "      <td>TV Show</td>\n",
       "      <td>Zumbo's Just Desserts</td>\n",
       "      <td>NaN</td>\n",
       "      <td>Adriano Zumbo, Rachel Khoo</td>\n",
       "      <td>Australia</td>\n",
       "      <td>October 31, 2020</td>\n",
       "      <td>2019</td>\n",
       "      <td>TV-PG</td>\n",
       "      <td>1 Season</td>\n",
       "      <td>International TV Shows, Reality TV</td>\n",
       "      <td>Dessert wizard Adriano Zumbo looks for the nex...</td>\n",
       "    </tr>\n",
       "    <tr>\n",
       "      <th>7786</th>\n",
       "      <td>s7787</td>\n",
       "      <td>Movie</td>\n",
       "      <td>ZZ TOP: THAT LITTLE OL' BAND FROM TEXAS</td>\n",
       "      <td>Sam Dunn</td>\n",
       "      <td>NaN</td>\n",
       "      <td>United Kingdom, Canada, United States</td>\n",
       "      <td>March 1, 2020</td>\n",
       "      <td>2019</td>\n",
       "      <td>TV-MA</td>\n",
       "      <td>90 min</td>\n",
       "      <td>Documentaries, Music &amp; Musicals</td>\n",
       "      <td>This documentary delves into the mystique behi...</td>\n",
       "    </tr>\n",
       "  </tbody>\n",
       "</table>\n",
       "</div>"
      ],
      "text/plain": [
       "     show_id     type                                    title     director  \\\n",
       "7782   s7783    Movie                                     Zozo  Josef Fares   \n",
       "7783   s7784    Movie                                   Zubaan  Mozez Singh   \n",
       "7784   s7785    Movie                        Zulu Man in Japan          NaN   \n",
       "7785   s7786  TV Show                    Zumbo's Just Desserts          NaN   \n",
       "7786   s7787    Movie  ZZ TOP: THAT LITTLE OL' BAND FROM TEXAS     Sam Dunn   \n",
       "\n",
       "                                                   cast  \\\n",
       "7782  Imad Creidi, Antoinette Turk, Elias Gergi, Car...   \n",
       "7783  Vicky Kaushal, Sarah-Jane Dias, Raaghav Chanan...   \n",
       "7784                                            Nasty C   \n",
       "7785                         Adriano Zumbo, Rachel Khoo   \n",
       "7786                                                NaN   \n",
       "\n",
       "                                                country          date_added  \\\n",
       "7782  Sweden, Czech Republic, United Kingdom, Denmar...    October 19, 2020   \n",
       "7783                                              India       March 2, 2019   \n",
       "7784                                                NaN  September 25, 2020   \n",
       "7785                                          Australia    October 31, 2020   \n",
       "7786              United Kingdom, Canada, United States       March 1, 2020   \n",
       "\n",
       "      release_year rating  duration  \\\n",
       "7782          2005  TV-MA    99 min   \n",
       "7783          2015  TV-14   111 min   \n",
       "7784          2019  TV-MA    44 min   \n",
       "7785          2019  TV-PG  1 Season   \n",
       "7786          2019  TV-MA    90 min   \n",
       "\n",
       "                                              listed_in  \\\n",
       "7782                       Dramas, International Movies   \n",
       "7783     Dramas, International Movies, Music & Musicals   \n",
       "7784  Documentaries, International Movies, Music & M...   \n",
       "7785                 International TV Shows, Reality TV   \n",
       "7786                    Documentaries, Music & Musicals   \n",
       "\n",
       "                                            description  \n",
       "7782  When Lebanon's Civil War deprives Zozo of his ...  \n",
       "7783  A scrappy but poor boy worms his way into a ty...  \n",
       "7784  In this documentary, South African rapper Nast...  \n",
       "7785  Dessert wizard Adriano Zumbo looks for the nex...  \n",
       "7786  This documentary delves into the mystique behi...  "
      ]
     },
     "execution_count": 3,
     "metadata": {},
     "output_type": "execute_result"
    }
   ],
   "source": [
    "# last 5 rows\n",
    "df.tail()"
   ]
  },
  {
   "cell_type": "code",
   "execution_count": 4,
   "metadata": {
    "colab": {
     "base_uri": "https://localhost:8080/"
    },
    "id": "JWohyurX0V4m",
    "outputId": "55b7bc18-b94d-4cd2-f01e-f00c3390711c"
   },
   "outputs": [
    {
     "data": {
      "text/plain": [
       "(7787, 12)"
      ]
     },
     "execution_count": 4,
     "metadata": {},
     "output_type": "execute_result"
    }
   ],
   "source": [
    "# Checking the shape of the dataframe\n",
    "df.shape"
   ]
  },
  {
   "cell_type": "code",
   "execution_count": 5,
   "metadata": {
    "colab": {
     "base_uri": "https://localhost:8080/"
    },
    "id": "qM4-nMx30V7h",
    "outputId": "477cdad4-4de3-4b3e-858c-7503c718655e"
   },
   "outputs": [
    {
     "data": {
      "text/plain": [
       "Index(['show_id', 'type', 'title', 'director', 'cast', 'country', 'date_added',\n",
       "       'release_year', 'rating', 'duration', 'listed_in', 'description'],\n",
       "      dtype='object')"
      ]
     },
     "execution_count": 5,
     "metadata": {},
     "output_type": "execute_result"
    }
   ],
   "source": [
    "# Columns name\n",
    "df.columns"
   ]
  },
  {
   "cell_type": "markdown",
   "metadata": {
    "id": "hOwNng_c0Zgr"
   },
   "source": [
    "There are 12 columns"
   ]
  },
  {
   "cell_type": "code",
   "execution_count": 6,
   "metadata": {
    "colab": {
     "base_uri": "https://localhost:8080/"
    },
    "id": "4EaS7_6St4Xn",
    "outputId": "d4640168-bbdf-4e82-cc77-d956e0440082"
   },
   "outputs": [
    {
     "name": "stdout",
     "output_type": "stream",
     "text": [
      "<class 'pandas.core.frame.DataFrame'>\n",
      "RangeIndex: 7787 entries, 0 to 7786\n",
      "Data columns (total 12 columns):\n",
      " #   Column        Non-Null Count  Dtype \n",
      "---  ------        --------------  ----- \n",
      " 0   show_id       7787 non-null   object\n",
      " 1   type          7787 non-null   object\n",
      " 2   title         7787 non-null   object\n",
      " 3   director      5398 non-null   object\n",
      " 4   cast          7069 non-null   object\n",
      " 5   country       7280 non-null   object\n",
      " 6   date_added    7777 non-null   object\n",
      " 7   release_year  7787 non-null   int64 \n",
      " 8   rating        7780 non-null   object\n",
      " 9   duration      7787 non-null   object\n",
      " 10  listed_in     7787 non-null   object\n",
      " 11  description   7787 non-null   object\n",
      "dtypes: int64(1), object(11)\n",
      "memory usage: 730.2+ KB\n"
     ]
    }
   ],
   "source": [
    "# Information about the dataset\n",
    "df.info()"
   ]
  },
  {
   "cell_type": "markdown",
   "metadata": {
    "id": "LE_x8k5r6wnr"
   },
   "source": [
    "# Data processing"
   ]
  },
  {
   "cell_type": "code",
   "execution_count": 7,
   "metadata": {
    "colab": {
     "base_uri": "https://localhost:8080/",
     "height": 49
    },
    "id": "293upvhw2wUt",
    "outputId": "c4df6d9d-4df7-4473-eb40-7c8bfbfe6951"
   },
   "outputs": [
    {
     "data": {
      "text/html": [
       "<div>\n",
       "<style scoped>\n",
       "    .dataframe tbody tr th:only-of-type {\n",
       "        vertical-align: middle;\n",
       "    }\n",
       "\n",
       "    .dataframe tbody tr th {\n",
       "        vertical-align: top;\n",
       "    }\n",
       "\n",
       "    .dataframe thead th {\n",
       "        text-align: right;\n",
       "    }\n",
       "</style>\n",
       "<table border=\"1\" class=\"dataframe\">\n",
       "  <thead>\n",
       "    <tr style=\"text-align: right;\">\n",
       "      <th></th>\n",
       "      <th>show_id</th>\n",
       "      <th>type</th>\n",
       "      <th>title</th>\n",
       "      <th>director</th>\n",
       "      <th>cast</th>\n",
       "      <th>country</th>\n",
       "      <th>date_added</th>\n",
       "      <th>release_year</th>\n",
       "      <th>rating</th>\n",
       "      <th>duration</th>\n",
       "      <th>listed_in</th>\n",
       "      <th>description</th>\n",
       "    </tr>\n",
       "  </thead>\n",
       "  <tbody>\n",
       "  </tbody>\n",
       "</table>\n",
       "</div>"
      ],
      "text/plain": [
       "Empty DataFrame\n",
       "Columns: [show_id, type, title, director, cast, country, date_added, release_year, rating, duration, listed_in, description]\n",
       "Index: []"
      ]
     },
     "execution_count": 7,
     "metadata": {},
     "output_type": "execute_result"
    }
   ],
   "source": [
    "#Drop duplicates\n",
    "df[df.duplicated()]\n"
   ]
  },
  {
   "cell_type": "markdown",
   "metadata": {
    "id": "Udj37FPU3NAL"
   },
   "source": [
    "There are no duplicated values"
   ]
  },
  {
   "cell_type": "markdown",
   "metadata": {
    "id": "Ff1UFwzU0BFm"
   },
   "source": [
    "**Handling Null values**"
   ]
  },
  {
   "cell_type": "code",
   "execution_count": 8,
   "metadata": {
    "colab": {
     "base_uri": "https://localhost:8080/"
    },
    "id": "oCTMV4Gat4Zs",
    "outputId": "e994b50a-3927-422c-8636-b3b0dd0330bb"
   },
   "outputs": [
    {
     "data": {
      "text/plain": [
       "show_id            0\n",
       "type               0\n",
       "title              0\n",
       "director        2389\n",
       "cast             718\n",
       "country          507\n",
       "date_added        10\n",
       "release_year       0\n",
       "rating             7\n",
       "duration           0\n",
       "listed_in          0\n",
       "description        0\n",
       "dtype: int64"
      ]
     },
     "execution_count": 8,
     "metadata": {},
     "output_type": "execute_result"
    }
   ],
   "source": [
    "#Checking Null Values\n",
    "df.isnull().sum()"
   ]
  },
  {
   "cell_type": "code",
   "execution_count": 9,
   "metadata": {
    "colab": {
     "base_uri": "https://localhost:8080/"
    },
    "id": "08P3tFtxt4cA",
    "outputId": "59117f6d-5b66-4e57-e74f-6df20d4ba046"
   },
   "outputs": [
    {
     "data": {
      "text/plain": [
       "3631"
      ]
     },
     "execution_count": 9,
     "metadata": {},
     "output_type": "execute_result"
    }
   ],
   "source": [
    "#total null values\n",
    "df.isnull().sum().sum()"
   ]
  },
  {
   "cell_type": "markdown",
   "metadata": {
    "id": "N96nnQKH1N9X"
   },
   "source": [
    "There are 3631 null values in the dataset, 2389 null values in director column, 718 null values in cast column ,507 null values in country column ,10 in date_added and 7 in rating. so we need to handle the null values"
   ]
  },
  {
   "cell_type": "code",
   "execution_count": 10,
   "metadata": {
    "id": "HoyQBAVRt4ed"
   },
   "outputs": [],
   "source": [
    "#Handling Null Values\n",
    "df['cast'].fillna(value='No cast',inplace=True)\n",
    "df['country'].fillna(value=df['country'].mode()[0],inplace=True)\n",
    "\n",
    "\n"
   ]
  },
  {
   "cell_type": "code",
   "execution_count": 11,
   "metadata": {
    "id": "IeW9Hj-84mwn"
   },
   "outputs": [],
   "source": [
    "#'date_added' and 'rating' contains an insignificant portion of the data so we will drop them from the dataset\n",
    "df.dropna(subset=['date_added','rating'],inplace=True)"
   ]
  },
  {
   "cell_type": "code",
   "execution_count": 12,
   "metadata": {
    "id": "U_eyLLXa4joI"
   },
   "outputs": [],
   "source": [
    "#Dropping Director Column\n",
    "df.drop(['director'],axis=1,inplace=True)"
   ]
  },
  {
   "cell_type": "code",
   "execution_count": 13,
   "metadata": {
    "colab": {
     "base_uri": "https://localhost:8080/"
    },
    "id": "irxm7r_f44Du",
    "outputId": "cccccf36-62ac-4e9a-d6e7-79e13e040b32"
   },
   "outputs": [
    {
     "data": {
      "text/plain": [
       "show_id         0\n",
       "type            0\n",
       "title           0\n",
       "cast            0\n",
       "country         0\n",
       "date_added      0\n",
       "release_year    0\n",
       "rating          0\n",
       "duration        0\n",
       "listed_in       0\n",
       "description     0\n",
       "dtype: int64"
      ]
     },
     "execution_count": 13,
     "metadata": {},
     "output_type": "execute_result"
    }
   ],
   "source": [
    "#again checking is there any null values are not\n",
    "df.isnull().sum()"
   ]
  },
  {
   "cell_type": "markdown",
   "metadata": {
    "id": "ZWLZxPHY6Pnk"
   },
   "source": [
    "# EDA"
   ]
  },
  {
   "cell_type": "markdown",
   "metadata": {
    "id": "8EX45jNw70eL"
   },
   "source": [
    "**1.Type**"
   ]
  },
  {
   "cell_type": "code",
   "execution_count": 14,
   "metadata": {
    "colab": {
     "base_uri": "https://localhost:8080/"
    },
    "id": "heflcvNm70T-",
    "outputId": "833d2c9b-055e-4160-b2e5-e33392f31aa4"
   },
   "outputs": [
    {
     "data": {
      "text/plain": [
       "type\n",
       "Movie      5372\n",
       "TV Show    2398\n",
       "Name: count, dtype: int64"
      ]
     },
     "execution_count": 14,
     "metadata": {},
     "output_type": "execute_result"
    }
   ],
   "source": [
    "df['type'].value_counts()"
   ]
  },
  {
   "cell_type": "code",
   "execution_count": 15,
   "metadata": {
    "colab": {
     "base_uri": "https://localhost:8080/",
     "height": 296
    },
    "id": "UMrdc0Cd44GD",
    "outputId": "7a2c8013-6b2e-462a-824f-8458cee7e8b7"
   },
   "outputs": [
    {
     "ename": "ValueError",
     "evalue": "could not convert string to float: 'TV Show'",
     "output_type": "error",
     "traceback": [
      "\u001b[1;31m---------------------------------------------------------------------------\u001b[0m",
      "\u001b[1;31mValueError\u001b[0m                                Traceback (most recent call last)",
      "Cell \u001b[1;32mIn[15], line 2\u001b[0m\n\u001b[0;32m      1\u001b[0m \u001b[38;5;66;03m#countplot to visualize the number of movies and tv_shows in type column\u001b[39;00m\n\u001b[1;32m----> 2\u001b[0m sns\u001b[38;5;241m.\u001b[39mcountplot(df[\u001b[38;5;124m'\u001b[39m\u001b[38;5;124mtype\u001b[39m\u001b[38;5;124m'\u001b[39m])\n",
      "File \u001b[1;32m~\\anaconda3\\Lib\\site-packages\\seaborn\\categorical.py:2943\u001b[0m, in \u001b[0;36mcountplot\u001b[1;34m(data, x, y, hue, order, hue_order, orient, color, palette, saturation, width, dodge, ax, **kwargs)\u001b[0m\n\u001b[0;32m   2940\u001b[0m \u001b[38;5;28;01melif\u001b[39;00m x \u001b[38;5;129;01mis\u001b[39;00m \u001b[38;5;129;01mnot\u001b[39;00m \u001b[38;5;28;01mNone\u001b[39;00m \u001b[38;5;129;01mand\u001b[39;00m y \u001b[38;5;129;01mis\u001b[39;00m \u001b[38;5;129;01mnot\u001b[39;00m \u001b[38;5;28;01mNone\u001b[39;00m:\n\u001b[0;32m   2941\u001b[0m     \u001b[38;5;28;01mraise\u001b[39;00m \u001b[38;5;167;01mValueError\u001b[39;00m(\u001b[38;5;124m\"\u001b[39m\u001b[38;5;124mCannot pass values for both `x` and `y`\u001b[39m\u001b[38;5;124m\"\u001b[39m)\n\u001b[1;32m-> 2943\u001b[0m plotter \u001b[38;5;241m=\u001b[39m _CountPlotter(\n\u001b[0;32m   2944\u001b[0m     x, y, hue, data, order, hue_order,\n\u001b[0;32m   2945\u001b[0m     estimator, errorbar, n_boot, units, seed,\n\u001b[0;32m   2946\u001b[0m     orient, color, palette, saturation,\n\u001b[0;32m   2947\u001b[0m     width, errcolor, errwidth, capsize, dodge\n\u001b[0;32m   2948\u001b[0m )\n\u001b[0;32m   2950\u001b[0m plotter\u001b[38;5;241m.\u001b[39mvalue_label \u001b[38;5;241m=\u001b[39m \u001b[38;5;124m\"\u001b[39m\u001b[38;5;124mcount\u001b[39m\u001b[38;5;124m\"\u001b[39m\n\u001b[0;32m   2952\u001b[0m \u001b[38;5;28;01mif\u001b[39;00m ax \u001b[38;5;129;01mis\u001b[39;00m \u001b[38;5;28;01mNone\u001b[39;00m:\n",
      "File \u001b[1;32m~\\anaconda3\\Lib\\site-packages\\seaborn\\categorical.py:1530\u001b[0m, in \u001b[0;36m_BarPlotter.__init__\u001b[1;34m(self, x, y, hue, data, order, hue_order, estimator, errorbar, n_boot, units, seed, orient, color, palette, saturation, width, errcolor, errwidth, capsize, dodge)\u001b[0m\n\u001b[0;32m   1525\u001b[0m \u001b[38;5;28;01mdef\u001b[39;00m \u001b[38;5;21m__init__\u001b[39m(\u001b[38;5;28mself\u001b[39m, x, y, hue, data, order, hue_order,\n\u001b[0;32m   1526\u001b[0m              estimator, errorbar, n_boot, units, seed,\n\u001b[0;32m   1527\u001b[0m              orient, color, palette, saturation, width,\n\u001b[0;32m   1528\u001b[0m              errcolor, errwidth, capsize, dodge):\n\u001b[0;32m   1529\u001b[0m \u001b[38;5;250m    \u001b[39m\u001b[38;5;124;03m\"\"\"Initialize the plotter.\"\"\"\u001b[39;00m\n\u001b[1;32m-> 1530\u001b[0m     \u001b[38;5;28mself\u001b[39m\u001b[38;5;241m.\u001b[39mestablish_variables(x, y, hue, data, orient,\n\u001b[0;32m   1531\u001b[0m                              order, hue_order, units)\n\u001b[0;32m   1532\u001b[0m     \u001b[38;5;28mself\u001b[39m\u001b[38;5;241m.\u001b[39mestablish_colors(color, palette, saturation)\n\u001b[0;32m   1533\u001b[0m     \u001b[38;5;28mself\u001b[39m\u001b[38;5;241m.\u001b[39mestimate_statistic(estimator, errorbar, n_boot, seed)\n",
      "File \u001b[1;32m~\\anaconda3\\Lib\\site-packages\\seaborn\\categorical.py:516\u001b[0m, in \u001b[0;36m_CategoricalPlotter.establish_variables\u001b[1;34m(self, x, y, hue, data, orient, order, hue_order, units)\u001b[0m\n\u001b[0;32m    513\u001b[0m     plot_data \u001b[38;5;241m=\u001b[39m data\n\u001b[0;32m    515\u001b[0m \u001b[38;5;66;03m# Convert to a list of arrays, the common representation\u001b[39;00m\n\u001b[1;32m--> 516\u001b[0m plot_data \u001b[38;5;241m=\u001b[39m [np\u001b[38;5;241m.\u001b[39masarray(d, \u001b[38;5;28mfloat\u001b[39m) \u001b[38;5;28;01mfor\u001b[39;00m d \u001b[38;5;129;01min\u001b[39;00m plot_data]\n\u001b[0;32m    518\u001b[0m \u001b[38;5;66;03m# The group names will just be numeric indices\u001b[39;00m\n\u001b[0;32m    519\u001b[0m group_names \u001b[38;5;241m=\u001b[39m \u001b[38;5;28mlist\u001b[39m(\u001b[38;5;28mrange\u001b[39m(\u001b[38;5;28mlen\u001b[39m(plot_data)))\n",
      "File \u001b[1;32m~\\anaconda3\\Lib\\site-packages\\seaborn\\categorical.py:516\u001b[0m, in \u001b[0;36m<listcomp>\u001b[1;34m(.0)\u001b[0m\n\u001b[0;32m    513\u001b[0m     plot_data \u001b[38;5;241m=\u001b[39m data\n\u001b[0;32m    515\u001b[0m \u001b[38;5;66;03m# Convert to a list of arrays, the common representation\u001b[39;00m\n\u001b[1;32m--> 516\u001b[0m plot_data \u001b[38;5;241m=\u001b[39m [np\u001b[38;5;241m.\u001b[39masarray(d, \u001b[38;5;28mfloat\u001b[39m) \u001b[38;5;28;01mfor\u001b[39;00m d \u001b[38;5;129;01min\u001b[39;00m plot_data]\n\u001b[0;32m    518\u001b[0m \u001b[38;5;66;03m# The group names will just be numeric indices\u001b[39;00m\n\u001b[0;32m    519\u001b[0m group_names \u001b[38;5;241m=\u001b[39m \u001b[38;5;28mlist\u001b[39m(\u001b[38;5;28mrange\u001b[39m(\u001b[38;5;28mlen\u001b[39m(plot_data)))\n",
      "File \u001b[1;32m~\\anaconda3\\Lib\\site-packages\\pandas\\core\\series.py:917\u001b[0m, in \u001b[0;36mSeries.__array__\u001b[1;34m(self, dtype)\u001b[0m\n\u001b[0;32m    870\u001b[0m \u001b[38;5;250m\u001b[39m\u001b[38;5;124;03m\"\"\"\u001b[39;00m\n\u001b[0;32m    871\u001b[0m \u001b[38;5;124;03mReturn the values as a NumPy array.\u001b[39;00m\n\u001b[0;32m    872\u001b[0m \n\u001b[1;32m   (...)\u001b[0m\n\u001b[0;32m    914\u001b[0m \u001b[38;5;124;03m      dtype='datetime64[ns]')\u001b[39;00m\n\u001b[0;32m    915\u001b[0m \u001b[38;5;124;03m\"\"\"\u001b[39;00m\n\u001b[0;32m    916\u001b[0m values \u001b[38;5;241m=\u001b[39m \u001b[38;5;28mself\u001b[39m\u001b[38;5;241m.\u001b[39m_values\n\u001b[1;32m--> 917\u001b[0m arr \u001b[38;5;241m=\u001b[39m np\u001b[38;5;241m.\u001b[39masarray(values, dtype\u001b[38;5;241m=\u001b[39mdtype)\n\u001b[0;32m    918\u001b[0m \u001b[38;5;28;01mif\u001b[39;00m using_copy_on_write() \u001b[38;5;129;01mand\u001b[39;00m astype_is_view(values\u001b[38;5;241m.\u001b[39mdtype, arr\u001b[38;5;241m.\u001b[39mdtype):\n\u001b[0;32m    919\u001b[0m     arr \u001b[38;5;241m=\u001b[39m arr\u001b[38;5;241m.\u001b[39mview()\n",
      "\u001b[1;31mValueError\u001b[0m: could not convert string to float: 'TV Show'"
     ]
    }
   ],
   "source": [
    "#countplot to visualize the number of movies and tv_shows in type column\n",
    "sns.countplot(df['type'])"
   ]
  },
  {
   "cell_type": "markdown",
   "metadata": {
    "id": "bmJgueqc7al8"
   },
   "source": [
    "Netflix has 5372 movies and 2398 TV shows,\n",
    "there are more   number movies on Netflix than TV shows.\n",
    "\n"
   ]
  },
  {
   "cell_type": "markdown",
   "metadata": {
    "id": "LTsLiGYT7tSf"
   },
   "source": [
    "**2.ratings**"
   ]
  },
  {
   "cell_type": "code",
   "execution_count": null,
   "metadata": {
    "colab": {
     "base_uri": "https://localhost:8080/"
    },
    "id": "mNTcvbjR_y8L",
    "outputId": "2bc0037a-603e-4ccd-e04b-7c7a836a9db6"
   },
   "outputs": [],
   "source": [
    "df['rating']"
   ]
  },
  {
   "cell_type": "code",
   "execution_count": null,
   "metadata": {
    "id": "y9g3TjDn44ME"
   },
   "outputs": [],
   "source": [
    "#Assigning the Ratings into grouped categories\n",
    "ratings = {\n",
    "    'TV-PG': 'Older Kids',\n",
    "    'TV-MA': 'Adults',\n",
    "    'TV-Y7-FV': 'Older Kids',\n",
    "    'TV-Y7': 'Older Kids',\n",
    "    'TV-14': 'Teens',\n",
    "    'R': 'Adults',\n",
    "    'TV-Y': 'Kids',\n",
    "    'NR': 'Adults',\n",
    "    'PG-13': 'Teens',\n",
    "    'TV-G': 'Kids',\n",
    "    'PG': 'Older Kids',\n",
    "    'G': 'Kids',\n",
    "    'UR': 'Adults',\n",
    "    'NC-17': 'Adults'\n",
    "}\n",
    "df['target_ages'] = df['rating'].replace(ratings)\n"
   ]
  },
  {
   "cell_type": "code",
   "execution_count": null,
   "metadata": {
    "id": "WJzn2qJ244Qc"
   },
   "outputs": [],
   "source": [
    "# type should be a catego\n",
    "df['type'] = pd.Categorical(df['type'])\n",
    "df['target_ages'] = pd.Categorical(df['target_ages'], categories=['Kids', 'Older Kids', 'Teens', 'Adults'])"
   ]
  },
  {
   "cell_type": "code",
   "execution_count": null,
   "metadata": {
    "colab": {
     "base_uri": "https://localhost:8080/",
     "height": 641
    },
    "id": "yr5O8m-RDKBk",
    "outputId": "121fea8e-799a-4149-8d08-716b03d62d5c"
   },
   "outputs": [],
   "source": [
    "df"
   ]
  },
  {
   "cell_type": "code",
   "execution_count": null,
   "metadata": {
    "id": "y5KowbW-EPz0"
   },
   "outputs": [],
   "source": [
    "#creating two extra columns\n",
    "tv_shows=df[df['type']=='TV Show']\n",
    "movies=df[df['type']=='Movie']"
   ]
  },
  {
   "cell_type": "code",
   "execution_count": null,
   "metadata": {
    "colab": {
     "base_uri": "https://localhost:8080/",
     "height": 462
    },
    "id": "Qwj7SHpxDKIE",
    "outputId": "b25d80f1-c899-4916-ed12-3035b5af7f63"
   },
   "outputs": [],
   "source": [
    "#Rating based on rating system of all TV Shows\n",
    "tv_ratings = tv_shows.groupby(['rating'])['show_id'].count().reset_index(name='count').sort_values(by='count',ascending=False)\n",
    "fig_dims = (14,7)\n",
    "fig, ax = plt.subplots(figsize=fig_dims)\n",
    "sns.pointplot(x='rating',y='count',data=tv_ratings)\n",
    "plt.title('TV Show Ratings',size='20')\n",
    "plt.show()"
   ]
  },
  {
   "cell_type": "markdown",
   "metadata": {
    "id": "ODO4XMQD9NCj"
   },
   "source": [
    "TV-MA has the highest number of ratings for tv shows i,e adult ratings"
   ]
  },
  {
   "cell_type": "code",
   "execution_count": null,
   "metadata": {
    "colab": {
     "base_uri": "https://localhost:8080/",
     "height": 421
    },
    "id": "wpalsTFPDKEK",
    "outputId": "f9109861-91cc-4d87-8675-c514197febdb"
   },
   "outputs": [],
   "source": [
    "#Movie Ratings based on Target Age Groups\n",
    "plt.figure(figsize=(14,6))\n",
    "plt.title('movie ratings')\n",
    "sns.countplot(x=movies['rating'],hue=movies['target_ages'],data=movies,order=movies['rating'].value_counts().index)"
   ]
  },
  {
   "cell_type": "markdown",
   "metadata": {
    "id": "ddFTsu-p-reL"
   },
   "source": [
    "TV-MA has the highest number of ratings for tv shows i,e adult ratings\n",
    "in both the cases TV-MA has the highest number of ratings"
   ]
  },
  {
   "cell_type": "markdown",
   "metadata": {
    "id": "LfwVPGg3-6wz"
   },
   "source": [
    "**3.Release_year**"
   ]
  },
  {
   "cell_type": "code",
   "execution_count": null,
   "metadata": {
    "id": "5RZUuwaH0V8A"
   },
   "outputs": [],
   "source": [
    "movies_year =movies['release_year'].value_counts().sort_index(ascending=False)\n"
   ]
  },
  {
   "cell_type": "code",
   "execution_count": null,
   "metadata": {
    "colab": {
     "base_uri": "https://localhost:8080/"
    },
    "id": "2HN_RrXG0WLU",
    "outputId": "defa8e67-ab6a-40c9-b84c-3f1eca7efe17"
   },
   "outputs": [],
   "source": [
    "movies_year"
   ]
  },
  {
   "cell_type": "code",
   "execution_count": null,
   "metadata": {
    "id": "mp-0MZfu2DEx"
   },
   "outputs": [],
   "source": [
    "tvshows_year =tv_shows['release_year'].value_counts().sort_index(ascending=False)\n"
   ]
  },
  {
   "cell_type": "code",
   "execution_count": null,
   "metadata": {
    "colab": {
     "base_uri": "https://localhost:8080/",
     "height": 554
    },
    "id": "xYWPE77L0WOW",
    "outputId": "c9e4d823-4b5a-40d5-953f-15715ec9e9c8"
   },
   "outputs": [],
   "source": [
    "# visualizing the movies and tv_shows based on the release year\n",
    "sns.set(font_scale=1.4)\n",
    "movies_year.plot(figsize=(12, 8), linewidth=2.5, color='maroon',label=\"Movies / year\",ms=3)\n",
    "tvshows_year.plot(figsize=(12, 8), linewidth=2.5, color='blue',label=\"TV Shows / year\")\n",
    "plt.xlabel(\"Years\", labelpad=15)\n",
    "plt.ylabel(\"Number\", labelpad=15)\n",
    "plt.title(\"Production growth yearly\", y=1.02, fontsize=22);"
   ]
  },
  {
   "cell_type": "code",
   "execution_count": null,
   "metadata": {
    "colab": {
     "base_uri": "https://localhost:8080/",
     "height": 366
    },
    "id": "wsJl7Q6v1YeN",
    "outputId": "f2e3b540-64b8-49b8-d732-abce174f3938"
   },
   "outputs": [],
   "source": [
    "#Analysing how many movies released per year in last 20 years\n",
    "plt.figure(figsize=(15,5))\n",
    "sns.countplot(y=movies['release_year'],data=df,order=movies['release_year'].value_counts().index[0:20])\n"
   ]
  },
  {
   "cell_type": "markdown",
   "metadata": {
    "id": "_6eOsuucAYYp"
   },
   "source": [
    "highest number of movies released in 2017 and 2018"
   ]
  },
  {
   "cell_type": "code",
   "execution_count": null,
   "metadata": {
    "colab": {
     "base_uri": "https://localhost:8080/"
    },
    "id": "8qOkERwR3o5L",
    "outputId": "87ddaf1f-cd86-41b2-e776-028b1926d7ea"
   },
   "outputs": [],
   "source": [
    "tvshows_year"
   ]
  },
  {
   "cell_type": "code",
   "execution_count": null,
   "metadata": {
    "colab": {
     "base_uri": "https://localhost:8080/",
     "height": 366
    },
    "id": "OuQwDJKz4Paa",
    "outputId": "2565ba0b-9141-47ca-fb05-3411889e423c"
   },
   "outputs": [],
   "source": [
    "#Analysing how many movies released per year in last 15 years\n",
    "plt.figure(figsize=(15,5))\n",
    "sns.countplot(y=tv_shows['release_year'],data=df,order=tv_shows['release_year'].value_counts().index[0:20])"
   ]
  },
  {
   "cell_type": "markdown",
   "metadata": {
    "id": "D2RgsuPn9zrT"
   },
   "source": [
    "\n",
    "\n",
    "*  highest number of movies released in 2017 and 2018\n",
    "*   highest number of movies released in 2020\n",
    "*  The number of movies on Netflix is growing significantly faster than the number of TV shows.\n",
    "*   We saw a huge increase in the number of movies and television episodes after 2015.\n",
    "*    there is a significant drop in the number of movies and television episodes produced after 2020.\n",
    "*   It appears that Netflix has focused more attention on increasing Movie content that TV Shows. Movies have increased much more dramatically than TV shows.\n",
    "\n",
    "\n"
   ]
  },
  {
   "cell_type": "code",
   "execution_count": null,
   "metadata": {
    "colab": {
     "base_uri": "https://localhost:8080/",
     "height": 641
    },
    "id": "FbIOMIZj5rGf",
    "outputId": "2c2771e6-1b89-4ffa-b1f7-a0f26ff6c966"
   },
   "outputs": [],
   "source": [
    "df"
   ]
  },
  {
   "cell_type": "code",
   "execution_count": null,
   "metadata": {
    "colab": {
     "base_uri": "https://localhost:8080/",
     "height": 337
    },
    "id": "LU31y7YE6aov",
    "outputId": "57bee012-2fe6-4537-f51e-8c4fd41afa5b"
   },
   "outputs": [],
   "source": [
    "#adding columns of month and year of addition\n",
    "\n",
    "df['month'] = pd.DatetimeIndex(df['date_added']).month\n",
    "df.head()"
   ]
  },
  {
   "cell_type": "markdown",
   "metadata": {
    "id": "EquSYUsiCmBz"
   },
   "source": [
    "**4.Release_month**"
   ]
  },
  {
   "cell_type": "code",
   "execution_count": null,
   "metadata": {
    "colab": {
     "base_uri": "https://localhost:8080/",
     "height": 621
    },
    "id": "uTBlcHcU7LzX",
    "outputId": "8c9bc81c-73be-417f-9be2-e8558acab8e3"
   },
   "outputs": [],
   "source": [
    "# Plotting the Countplot\n",
    "plt.figure(figsize=(12,10))\n",
    "ax=sns.countplot('month',data= df)"
   ]
  },
  {
   "cell_type": "markdown",
   "metadata": {
    "id": "qBMp7RUSDBvs"
   },
   "source": [
    "From October to January, maximum number of movies and TV shows were added.\n"
   ]
  },
  {
   "cell_type": "code",
   "execution_count": null,
   "metadata": {
    "colab": {
     "base_uri": "https://localhost:8080/",
     "height": 421
    },
    "id": "reZsy2YraZoC",
    "outputId": "29fb7fcd-2fe0-466a-b10a-66dfc0788da6"
   },
   "outputs": [],
   "source": [
    "fig, ax = plt.subplots(figsize=(15,6))\n",
    "\n",
    "sns.countplot(x='month', hue='type',lw=5, data=df, ax=ax)"
   ]
  },
  {
   "cell_type": "markdown",
   "metadata": {
    "id": "80Q9GekV9dFm"
   },
   "source": [
    "The above graph shows that the most content is added to Netflix from october to january"
   ]
  },
  {
   "cell_type": "markdown",
   "metadata": {
    "id": "J3XT9g-ODZw4"
   },
   "source": [
    "**5.genre**"
   ]
  },
  {
   "cell_type": "code",
   "execution_count": null,
   "metadata": {
    "colab": {
     "base_uri": "https://localhost:8080/",
     "height": 441
    },
    "id": "RCcm_3OS-LZX",
    "outputId": "19178b1d-5f89-4857-ab98-3f70e01a5b04"
   },
   "outputs": [],
   "source": [
    "#Analysing top10 genre of the movies\n",
    "plt.figure(figsize=(14,6))\n",
    "plt.title('Top10 Genre of Movies',fontweight=\"bold\")\n",
    "sns.countplot(y=movies['listed_in'],data=movies,order=movies['listed_in'].value_counts().index[0:10])"
   ]
  },
  {
   "cell_type": "markdown",
   "metadata": {
    "id": "AaPvlCUXD6mp"
   },
   "source": [
    "Documentaries are the top most genre in netflix which is fllowed by standup comedy and Drams and international movies"
   ]
  },
  {
   "cell_type": "code",
   "execution_count": null,
   "metadata": {
    "colab": {
     "base_uri": "https://localhost:8080/",
     "height": 441
    },
    "id": "lZsZg19M-LcV",
    "outputId": "a59f7056-34b6-43a3-9046-d29de4b0ad36"
   },
   "outputs": [],
   "source": [
    "#Analysing top10 genres of TVSHOWS\n",
    "plt.figure(figsize=(14,6))\n",
    "plt.title('Top10 Genre of TV Shows',fontweight=\"bold\")\n",
    "sns.countplot(y=tv_shows['listed_in'],data=tv_shows,order=tv_shows['listed_in'].value_counts().index[0:10])"
   ]
  },
  {
   "cell_type": "markdown",
   "metadata": {
    "id": "fAvV8y5jER2B"
   },
   "source": [
    "kids tv is the top most  TV show genre in netflix"
   ]
  },
  {
   "cell_type": "markdown",
   "metadata": {
    "id": "CLlQf8DoEi9q"
   },
   "source": [
    "**6.Duration**"
   ]
  },
  {
   "cell_type": "code",
   "execution_count": null,
   "metadata": {
    "colab": {
     "base_uri": "https://localhost:8080/",
     "height": 456
    },
    "id": "DeusDlpjVeRK",
    "outputId": "e1419142-04e5-44ba-90e6-77e6844a750e"
   },
   "outputs": [],
   "source": [
    "#Checking the distribution of Movie Durations\n",
    "plt.figure(figsize=(10,7))\n",
    "#Regular Expression pattern \\d is a regex pattern for digit + is a regex pattern for at leas\n",
    "sns.distplot(movies['duration'].str.extract('(\\d+)'),kde=False, color=['red'])\n",
    "plt.title('Distplot with Normal distribution for Movies',fontweight=\"bold\")\n",
    "plt.show()"
   ]
  },
  {
   "cell_type": "markdown",
   "metadata": {
    "id": "TtOmiOKPFM3N"
   },
   "source": [
    "most of the movies have duration of between 50 to 150"
   ]
  },
  {
   "cell_type": "code",
   "execution_count": null,
   "metadata": {
    "colab": {
     "base_uri": "https://localhost:8080/",
     "height": 428
    },
    "id": "A3Dy20UCVeTI",
    "outputId": "af89866f-59cf-4a33-94d7-c71c7ef4de21"
   },
   "outputs": [],
   "source": [
    "#Checking the distribution of TV SHOWS\n",
    "plt.figure(figsize=(30,6))\n",
    "plt.title(\"Distribution of TV Shows duration\",fontweight='bold')\n",
    "sns.countplot(x=tv_shows['duration'],data=tv_shows,order = tv_shows['duration'].value_counts().index)\n"
   ]
  },
  {
   "cell_type": "markdown",
   "metadata": {
    "id": "vGHhRavlFmfA"
   },
   "source": [
    "highest number of tv_shows consistig of single season"
   ]
  },
  {
   "cell_type": "code",
   "execution_count": null,
   "metadata": {
    "colab": {
     "base_uri": "https://localhost:8080/",
     "height": 404
    },
    "id": "E_jTHgCCbgQ1",
    "outputId": "c0497b23-b0b7-45c0-8922-80ee48998814"
   },
   "outputs": [],
   "source": [
    "movies['minute'] = movies['duration'].str.extract('(\\d+)').apply(pd.to_numeric)\n",
    "duration_year = movies.groupby(['rating'])['minute'].mean()\n",
    "duration_df=pd.DataFrame(duration_year).sort_values('minute')\n",
    "plt.figure(figsize=(12,6))\n",
    "ax=sns.barplot(x=duration_df.index, y=duration_df.minute)"
   ]
  },
  {
   "cell_type": "markdown",
   "metadata": {
    "id": "oKs2kXe06xAl"
   },
   "source": [
    "Those movies that have a rating of NC-17 have the longest average duration.\n",
    "\n",
    "When it comes to movies having a TV-Y rating, they have the shortest runtime on average"
   ]
  },
  {
   "cell_type": "markdown",
   "metadata": {
    "id": "IewDgSZ_FvSm"
   },
   "source": [
    "**7.country**"
   ]
  },
  {
   "cell_type": "code",
   "execution_count": null,
   "metadata": {
    "colab": {
     "base_uri": "https://localhost:8080/",
     "height": 457
    },
    "id": "K0rB7rqDVeWB",
    "outputId": "08ad8291-8c9b-4b00-a0bf-08c7fef71760"
   },
   "outputs": [],
   "source": [
    "#Analysing top15 countries with most content\n",
    "plt.figure(figsize=(18,5))\n",
    "sns.countplot(x=df['country'],order=df['country'].value_counts().index[0:15],hue=df['type'])\n",
    "plt.xticks(rotation=50)\n",
    "plt.title('Top 15 countries with most contents', fontsize=15, fontweight='bold')\n",
    "plt.show()"
   ]
  },
  {
   "cell_type": "markdown",
   "metadata": {
    "id": "t6A9c5ghGUhK"
   },
   "source": [
    "unitated states has the highest number of content on the netflix ,followed by india"
   ]
  },
  {
   "cell_type": "code",
   "execution_count": null,
   "metadata": {
    "colab": {
     "base_uri": "https://localhost:8080/",
     "height": 424
    },
    "id": "5u--Z6wZbf10",
    "outputId": "0c3e6755-a78b-499e-8010-1a9b00936c8f"
   },
   "outputs": [],
   "source": [
    "#top_two countries where netflix is most popular\n",
    "country=df['country'].value_counts().reset_index()\n",
    "country\n"
   ]
  },
  {
   "cell_type": "code",
   "execution_count": null,
   "metadata": {
    "colab": {
     "base_uri": "https://localhost:8080/",
     "height": 508
    },
    "id": "5BI6Eowdbf4F",
    "outputId": "69f9d9c7-f5d6-4b2b-add4-f25198650a2a"
   },
   "outputs": [],
   "source": [
    "# Plotting the Horizontal bar plot for top 10 country contains Movie & TV Show split\n",
    "country_order = df['country'].value_counts()[:11].index\n",
    "content_data = df[['type', 'country']].groupby('country')['type'].value_counts().unstack().loc[country_order]\n",
    "content_data['sum'] = content_data.sum(axis=1)\n",
    "content_data_ratio = (content_data.T / content_data['sum']).T[['Movie', 'TV Show']].sort_values(by='Movie',ascending=False)[::-1]\n",
    "\n",
    "# Plotting the barh\n",
    "fig, ax = plt.subplots(1,1,figsize=(15, 8),)\n",
    "\n",
    "ax.barh(content_data_ratio.index, content_data_ratio['Movie'],\n",
    "        color='crimson', alpha=0.8, label='Movie')\n",
    "ax.barh(content_data_ratio.index, content_data_ratio['TV Show'], left=content_data_ratio['Movie'],\n",
    "        color='black', alpha=0.8, label='TV Show')"
   ]
  },
  {
   "cell_type": "markdown",
   "metadata": {
    "id": "p4frfCaUG-su"
   },
   "source": [
    "india has highest number of movies in netflix"
   ]
  },
  {
   "cell_type": "code",
   "execution_count": null,
   "metadata": {
    "colab": {
     "base_uri": "https://localhost:8080/",
     "height": 206
    },
    "id": "IKphAL9obf-l",
    "outputId": "d8ee0b32-a89f-4a20-aa04-53df3d2b3220"
   },
   "outputs": [],
   "source": [
    "# Preparing data for heatmap\n",
    "df['count'] = 1\n",
    "data = df.groupby('country')[['country','count']].sum().sort_values(by='count',ascending=False).reset_index()[:10]\n",
    "data = data['country']\n",
    "\n",
    "\n",
    "df_heatmap = df.loc[df['country'].isin(data)]\n",
    "df_heatmap = pd.crosstab(df_heatmap['country'],df_heatmap['target_ages'],normalize = \"index\").T\n",
    "df_heatmap\n",
    "\n"
   ]
  },
  {
   "cell_type": "code",
   "execution_count": null,
   "metadata": {
    "colab": {
     "base_uri": "https://localhost:8080/",
     "height": 484
    },
    "id": "MC-uiWhq9akw",
    "outputId": "f17dcdb0-2a24-4559-c07d-9484eec4db79"
   },
   "outputs": [],
   "source": [
    "# Plotting the heatmap\n",
    "fig, ax = plt.subplots(1, 1, figsize=(12, 12))\n",
    "\n",
    "country_order2 = ['United States', 'India', 'United Kingdom', 'Canada', 'Japan', 'France', 'South Korea', 'Spain',\n",
    "       'Mexico']\n",
    "\n",
    "age_order = ['Adults', 'Teens', 'Older Kids', 'Kids']\n",
    "\n",
    "sns.heatmap(df_heatmap.loc[age_order,country_order2],cmap=\"YlGnBu\",square=True, linewidth=2.5,cbar=False,\n",
    "            annot=True,fmt='1.0%',vmax=.6,vmin=0.05,ax=ax,annot_kws={\"fontsize\":12})\n",
    "plt.show()"
   ]
  },
  {
   "cell_type": "markdown",
   "metadata": {
    "id": "X9siipUj96ZF"
   },
   "source": [
    "the US and UK are closely aligned with their Netflix target ages, but radically different from, example, India or Japan!\n",
    "\n",
    "Also, Mexico and Spain have similar content on Netflix for different age groups."
   ]
  },
  {
   "cell_type": "markdown",
   "metadata": {
    "id": "C3cEBQZ5IW4N"
   },
   "source": [
    "**8.Originals**"
   ]
  },
  {
   "cell_type": "code",
   "execution_count": null,
   "metadata": {
    "colab": {
     "base_uri": "https://localhost:8080/",
     "height": 658
    },
    "id": "w4rY5MLWTG74",
    "outputId": "8eab765e-1b63-4798-8ab3-6d0b25dc7ac1"
   },
   "outputs": [],
   "source": [
    "df['date_added'] = pd.to_datetime(df['date_added'])\n",
    "movies['year_added'] = df['date_added'].dt.year\n",
    "df"
   ]
  },
  {
   "cell_type": "markdown",
   "metadata": {
    "id": "8eF1BLdeIb3j"
   },
   "source": [
    "Some movies and TV shows were actually released in the past and they were added\n",
    "later on Netflix.\n",
    "But some movies and TV shows were released on Netflix itself. Named those as Netflix Originals."
   ]
  },
  {
   "cell_type": "code",
   "execution_count": null,
   "metadata": {
    "colab": {
     "base_uri": "https://localhost:8080/",
     "height": 406
    },
    "id": "4ACRmFQrSmy6",
    "outputId": "f61ab2fc-92e2-4c6c-adb9-9882101a3837"
   },
   "outputs": [],
   "source": [
    "movies['originals'] = np.where(movies['release_year'] == movies['year_added'], 'Yes', 'No')\n",
    "# pie plot showing percentage of originals and others in movies\n",
    "fig, ax = plt.subplots(figsize=(5,5),facecolor=\"#363336\")\n",
    "ax.patch.set_facecolor('#363336')\n",
    "explode = (0, 0.1)\n",
    "ax.pie(movies['originals'].value_counts(), explode=explode, autopct='%.2f%%', labels= ['Others', 'Originals'],\n",
    "       shadow=True, startangle=90,textprops={'color':\"black\", 'fontsize': 20}, colors =['red','#F5E9F5'])"
   ]
  },
  {
   "cell_type": "markdown",
   "metadata": {
    "id": "-OdCgdSPUPwO"
   },
   "source": [
    "30% movies released on Netflix.\n",
    "70% movies added on Netflix were released earlier by different mode."
   ]
  },
  {
   "cell_type": "markdown",
   "metadata": {
    "id": "JD_B3opJFoGF"
   },
   "source": [
    "# making some hypothesis"
   ]
  },
  {
   "cell_type": "markdown",
   "metadata": {
    "id": "gTBaACKEHFyw"
   },
   "source": [
    "**1.HYPOTHESIS TESTING**\n",
    "*   HO:movies rated for kids and older kids are at least two hours long.\n",
    "*   H1:movies rated for kids and older kids are not at least two hours long.\n",
    "\n"
   ]
  },
  {
   "cell_type": "code",
   "execution_count": null,
   "metadata": {
    "colab": {
     "base_uri": "https://localhost:8080/"
    },
    "id": "CzEwBvpzOw6B",
    "outputId": "dfde3146-f9d9-45e4-e663-c21bcba34469"
   },
   "outputs": [],
   "source": [
    "movies"
   ]
  },
  {
   "cell_type": "code",
   "execution_count": null,
   "metadata": {
    "colab": {
     "base_uri": "https://localhost:8080/"
    },
    "id": "pAc22A6XaPab",
    "outputId": "e48f6dca-5f10-4cee-8df5-61a77762d2fc"
   },
   "outputs": [],
   "source": [
    "#making copy of df_clean_frame\n",
    "df_hypothesis=df.copy()\n",
    "#head of df_hypothesis\n",
    "df_hypothesis.head()"
   ]
  },
  {
   "cell_type": "code",
   "execution_count": null,
   "metadata": {
    "id": "p6bO5XXHaPdT"
   },
   "outputs": [],
   "source": [
    "#filtering movie from Type_of_show column\n",
    "df_hypothesis = df_hypothesis[df_hypothesis[\"type\"] == \"Movie\"]"
   ]
  },
  {
   "cell_type": "code",
   "execution_count": null,
   "metadata": {
    "colab": {
     "base_uri": "https://localhost:8080/"
    },
    "id": "dXeVVs7rartO",
    "outputId": "1b860620-916c-46fb-90a1-7930543ace28"
   },
   "outputs": [],
   "source": [
    "#with respect to each ratings assigning it into group of categories\n",
    "ratings_ages = {\n",
    "    'TV-PG': 'Older Kids',\n",
    "    'TV-MA': 'Adults',\n",
    "    'TV-Y7-FV': 'Older Kids',\n",
    "    'TV-Y7': 'Older Kids',\n",
    "    'TV-14': 'Teens',\n",
    "    'R': 'Adults',\n",
    "    'TV-Y': 'Kids',\n",
    "    'NR': 'Adults',\n",
    "    'PG-13': 'Teens',\n",
    "    'TV-G': 'Kids',\n",
    "    'PG': 'Older Kids',\n",
    "    'G': 'Kids',\n",
    "    'UR': 'Adults',\n",
    "    'NC-17': 'Adults'\n",
    "}\n",
    "\n",
    "df_hypothesis['target_ages'] = df_hypothesis['rating'].replace(ratings_ages)\n",
    "#let's see unique target ages\n",
    "df_hypothesis['target_ages'].unique()"
   ]
  },
  {
   "cell_type": "code",
   "execution_count": null,
   "metadata": {
    "colab": {
     "base_uri": "https://localhost:8080/"
    },
    "id": "CQoPAI9BbEiN",
    "outputId": "e42dcd66-bc86-4d94-fec2-62cda312d293"
   },
   "outputs": [],
   "source": [
    "#Another category is target_ages (4 classes).\n",
    "df_hypothesis['target_ages'] = pd.Categorical(df_hypothesis['target_ages'], categories=['Kids', 'Older Kids', 'Teens', 'Adults'])\n",
    "#from duration feature extractin string part and after extracting Changing the object type to numeric\n",
    "df_hypothesis['duration']= df_hypothesis['duration'].str.extract('(\\d+)')\n",
    "df_hypothesis['duration'] = pd.to_numeric(df_hypothesis['duration'])\n",
    "#head of df_\n",
    "df_hypothesis.head(3)\n"
   ]
  },
  {
   "cell_type": "code",
   "execution_count": null,
   "metadata": {
    "colab": {
     "base_uri": "https://localhost:8080/"
    },
    "id": "EqsyXoJVHEen",
    "outputId": "0e3d1c20-0cb5-44e6-e11f-982356e91f1a"
   },
   "outputs": [],
   "source": [
    "\n",
    "#group_by duration and target_ages\n",
    "group_by_= df_hypothesis[['duration','target_ages']].groupby(by='target_ages')\n",
    "#mean of group_by variable\n",
    "group=group_by_.mean().reset_index()\n",
    "group"
   ]
  },
  {
   "cell_type": "code",
   "execution_count": null,
   "metadata": {
    "colab": {
     "base_uri": "https://localhost:8080/"
    },
    "id": "XKDikMVnY5cR",
    "outputId": "8fe50626-45ea-4c2b-c8dd-338c2f3632cb"
   },
   "outputs": [],
   "source": [
    "#In A and B variable grouping values\n",
    "A= group_by_.get_group('Kids')\n",
    "B= group_by_.get_group('Older Kids')\n",
    "#mean and std. calutation for kids and older kids variables\n",
    "M1 = A.mean()\n",
    "S1 = A.std()\n",
    "\n",
    "M2= B.mean()\n",
    "S2 = B.std()\n",
    "\n",
    "print('Mean for movies rated for Kids {} \\n Mean for  movies rated for older kids {}'.format(M1,M2))\n",
    "print('Std for  movies rated for Older Kids {} \\n Std for  movies rated for kids {}'.format(S2,S1))"
   ]
  },
  {
   "cell_type": "code",
   "execution_count": null,
   "metadata": {
    "colab": {
     "base_uri": "https://localhost:8080/"
    },
    "id": "rbgsjNbzchkt",
    "outputId": "6748463c-1df4-4b47-a7b9-7fc0f0fdd4be"
   },
   "outputs": [],
   "source": [
    "#import stats\n",
    "from scipy import stats\n",
    "#length of groups and DOF\n",
    "n1 = len(A)\n",
    "n2= len(B)\n",
    "print(n1,n2)\n",
    "\n",
    "dof = n1+n2-2\n",
    "print('dof',dof)\n",
    "\n",
    "sp_2 = ((n2-1)*S1**2  + (n1-1)*S2**2) / dof\n",
    "print('SP_2 =',sp_2)\n",
    "\n",
    "sp = np.sqrt(sp_2)\n",
    "print('SP',sp)\n",
    "\n",
    "#tvalue\n",
    "t_val = (M1-M2)/(sp * np.sqrt(1/n1 + 1/n2))\n",
    "print('tvalue',t_val[0])"
   ]
  },
  {
   "cell_type": "code",
   "execution_count": null,
   "metadata": {
    "colab": {
     "base_uri": "https://localhost:8080/"
    },
    "id": "OenoGbo5cmIH",
    "outputId": "5f4e51c5-b931-4100-ae6a-7c9010e0cd7f"
   },
   "outputs": [],
   "source": [
    "#t-distribution\n",
    "stats.t.ppf(0.025,dof)\n"
   ]
  },
  {
   "cell_type": "code",
   "execution_count": null,
   "metadata": {
    "colab": {
     "base_uri": "https://localhost:8080/"
    },
    "id": "LBrYVcoxcp_C",
    "outputId": "fcb11035-e86d-47f6-fe6a-1233eaf554e5"
   },
   "outputs": [],
   "source": [
    "#t-distribution\n",
    "stats.t.ppf(0.975,dof)"
   ]
  },
  {
   "cell_type": "markdown",
   "metadata": {
    "id": "mt8hWAJfczgj"
   },
   "source": [
    "Because the t-value is not in the range, the null hypothesis is rejected.\n",
    "\n",
    "As a result, movies rated for kids and older kids are not at least two hours long."
   ]
  },
  {
   "cell_type": "markdown",
   "metadata": {
    "id": "3PQM34PAJXAJ"
   },
   "source": [
    "**2. HYPOTHESIS TESTING**\n",
    "*    H1:The duration which is more than 90 mins are  movies\n",
    "*   HO:The duration which is more than 90 mins are NOT movies\n",
    "\n"
   ]
  },
  {
   "cell_type": "code",
   "execution_count": null,
   "metadata": {
    "colab": {
     "base_uri": "https://localhost:8080/"
    },
    "id": "92wNnmskdS0X",
    "outputId": "8f9d2b69-4b8d-4f70-9585-fa5f2c8d44df"
   },
   "outputs": [],
   "source": [
    "#making copy of df_clean_frame\n",
    "df_hypothesis=df.copy()\n",
    "#head of df_hypothesis\n",
    "df_hypothesis.head()"
   ]
  },
  {
   "cell_type": "code",
   "execution_count": null,
   "metadata": {
    "id": "wPlmCT3deo3Q"
   },
   "outputs": [],
   "source": [
    "df_hypothesis['duration']= df_hypothesis['duration'].str.extract('(\\d+)')\n",
    "df_hypothesis['duration'] = pd.to_numeric(df_hypothesis['duration'])\n",
    "#head of df_"
   ]
  },
  {
   "cell_type": "code",
   "execution_count": null,
   "metadata": {
    "colab": {
     "base_uri": "https://localhost:8080/"
    },
    "id": "Xmppvr6jdTqn",
    "outputId": "62a3bc1a-54a4-4cfa-b702-710a059fbe83"
   },
   "outputs": [],
   "source": [
    "\n",
    "df_hypothesis['type'] = pd.Categorical(df_hypothesis['type'], categories=['Movie','TV Show'])\n",
    "#from duration feature extractin string part and after extracting Changing the object type to numeric\n",
    "#df_hypothesis['duration']= df_hypothesis['duration'].str.extract('(\\d+)')\n",
    "#df_hypothesis['duration'] = pd.to_numeric(df_hypothesis['duration'])\n",
    "#head of df_\n",
    "df_hypothesis.head(3)\n"
   ]
  },
  {
   "cell_type": "code",
   "execution_count": null,
   "metadata": {
    "colab": {
     "base_uri": "https://localhost:8080/"
    },
    "id": "YzYP7ZI7dTqo",
    "outputId": "c49f24b0-5d30-49a1-cf39-64eadbafe307"
   },
   "outputs": [],
   "source": [
    "\n",
    "#group_by duration and TYPE\n",
    "group_by_= df_hypothesis[['duration','type']].groupby(by='type')\n",
    "#mean of group_by variable\n",
    "group=group_by_.mean().reset_index()\n",
    "group"
   ]
  },
  {
   "cell_type": "code",
   "execution_count": null,
   "metadata": {
    "colab": {
     "base_uri": "https://localhost:8080/"
    },
    "id": "8ab6TcfWfDSm",
    "outputId": "b0da938f-b650-4d78-d1c5-356fdac31de5"
   },
   "outputs": [],
   "source": [
    "#In A and B variable grouping values\n",
    "A= group_by_.get_group('Movie')\n",
    "B= group_by_.get_group('TV Show')\n",
    "#mean and std\n",
    "M1 = A.mean()\n",
    "S1 = A.std()\n",
    "\n",
    "M2= B.mean()\n",
    "S2 = B.std()\n",
    "\n",
    "print('Mean  {}'.format(M1,M2))\n",
    "print('Std  {}'.format(S2,S1))"
   ]
  },
  {
   "cell_type": "code",
   "execution_count": null,
   "metadata": {
    "colab": {
     "base_uri": "https://localhost:8080/"
    },
    "id": "G-poWttdfDSn",
    "outputId": "f1e0f15e-1e7c-4107-c314-722aeb0b7ca8"
   },
   "outputs": [],
   "source": [
    "#import stats\n",
    "from scipy import stats\n",
    "#length of groups and DOF\n",
    "n1 = len(A)\n",
    "n2= len(B)\n",
    "print(n1,n2)\n",
    "\n",
    "dof = n1+n2-2\n",
    "print('dof',dof)\n",
    "\n",
    "sp_2 = ((n2-1)*S1**2  + (n1-1)*S2**2) / dof\n",
    "print('SP_2 =',sp_2)\n",
    "\n",
    "sp = np.sqrt(sp_2)\n",
    "print('SP',sp)\n",
    "\n",
    "#tvalue\n",
    "t_val = (M1-M2)/(sp * np.sqrt(1/n1 + 1/n2))\n",
    "print('tvalue',t_val[0])"
   ]
  },
  {
   "cell_type": "code",
   "execution_count": null,
   "metadata": {
    "colab": {
     "base_uri": "https://localhost:8080/"
    },
    "id": "iS4fBM4afDSo",
    "outputId": "d47224f4-665d-4d23-c2df-1a599e94a307"
   },
   "outputs": [],
   "source": [
    "#t-distribution\n",
    "stats.t.ppf(0.025,dof)\n"
   ]
  },
  {
   "cell_type": "code",
   "execution_count": null,
   "metadata": {
    "colab": {
     "base_uri": "https://localhost:8080/"
    },
    "id": "15mdRNPAfDSo",
    "outputId": "effab16b-0b40-41e6-e047-465421a77f91"
   },
   "outputs": [],
   "source": [
    "#t-distribution\n",
    "stats.t.ppf(0.975,dof)"
   ]
  },
  {
   "cell_type": "markdown",
   "metadata": {
    "id": "3PGxo3zYgr4b"
   },
   "source": [
    "Because the t-value is not in the range, the null hypothesis is rejected.\n",
    "\n",
    "As a result, The duration which is more than 90 mins are movies"
   ]
  },
  {
   "cell_type": "markdown",
   "metadata": {
    "id": "fCv-b5RQKtMR"
   },
   "source": [
    "# Feature engineering"
   ]
  },
  {
   "cell_type": "code",
   "execution_count": null,
   "metadata": {
    "colab": {
     "base_uri": "https://localhost:8080/"
    },
    "id": "Ug-WwBR11QxZ",
    "outputId": "2cf91067-646a-4bed-a6a2-4a52e73c9113"
   },
   "outputs": [],
   "source": [
    "df.dtypes"
   ]
  },
  {
   "cell_type": "code",
   "execution_count": null,
   "metadata": {
    "colab": {
     "base_uri": "https://localhost:8080/"
    },
    "id": "B7by8D8Z1Q6q",
    "outputId": "bb7c4223-208a-4fda-dcc2-16d0c42467ba"
   },
   "outputs": [],
   "source": [
    "import nltk\n",
    "nltk.download('stopwords')\n",
    "from nltk.corpus import stopwords\n",
    "from nltk.tokenize import word_tokenize\n",
    "from nltk.stem.snowball import SnowballStemmer\n",
    "nltk.download('punkt')"
   ]
  },
  {
   "cell_type": "code",
   "execution_count": null,
   "metadata": {
    "colab": {
     "base_uri": "https://localhost:8080/"
    },
    "id": "6Wfhh8Ej1Q93",
    "outputId": "76cc7015-d93a-4de2-8824-98cfe7ae6ad2"
   },
   "outputs": [],
   "source": [
    "df.dtypes"
   ]
  },
  {
   "cell_type": "code",
   "execution_count": null,
   "metadata": {
    "colab": {
     "base_uri": "https://localhost:8080/"
    },
    "id": "xt7CLwak1RDQ",
    "outputId": "cde6879f-80dc-471a-cae7-42df0d45fa3f"
   },
   "outputs": [],
   "source": [
    "df['description'].astype(str)"
   ]
  },
  {
   "cell_type": "code",
   "execution_count": null,
   "metadata": {
    "id": "dI_MGFHBe2BQ"
   },
   "outputs": [],
   "source": [
    "# after above all the changes, those features are in list format, so making list of description feature\n",
    "df['description'] = df['description'].apply(lambda x: x.split(' '))"
   ]
  },
  {
   "cell_type": "code",
   "execution_count": null,
   "metadata": {
    "id": "Q_v2e2C3eOPP"
   },
   "outputs": [],
   "source": [
    "# converting text feature to string from list\n",
    "df['description']= df['description'].apply(lambda x: \" \".join(x))\n",
    "# making all the words in text feature to lowercase\n",
    "df['description']= df['description'].apply(lambda x: x.lower())"
   ]
  },
  {
   "cell_type": "code",
   "execution_count": null,
   "metadata": {
    "id": "dhIy0ft2eOR7"
   },
   "outputs": [],
   "source": [
    "def remove_punctuation(text):\n",
    "    '''a function for removing punctuation'''\n",
    "    import string\n",
    "    # replacing the punctuations with no space,\n",
    "    # which in effect deletes the punctuation marks\n",
    "    translator = str.maketrans('', '', string.punctuation)\n",
    "    # return the text stripped of punctuation marks\n",
    "    return text.translate(translator)\n",
    "# applying above function on text feature\n",
    "df['description']= df['description'].apply(remove_punctuation)"
   ]
  },
  {
   "cell_type": "code",
   "execution_count": null,
   "metadata": {
    "colab": {
     "base_uri": "https://localhost:8080/"
    },
    "id": "wKKQ8GNeeOVV",
    "outputId": "c85c6089-ea4a-4a56-83dd-f10a56deb8b4"
   },
   "outputs": [],
   "source": [
    "df['description'][0:10]"
   ]
  },
  {
   "cell_type": "code",
   "execution_count": null,
   "metadata": {
    "colab": {
     "base_uri": "https://localhost:8080/"
    },
    "id": "K0LKrVxCeOYZ",
    "outputId": "292e010f-8e2a-46dd-bc0f-6f43467c17b0"
   },
   "outputs": [],
   "source": [
    "# using nltk library to download stopwords\n",
    "import nltk\n",
    "nltk.download('stopwords')\n",
    "\n",
    "from nltk.corpus import stopwords\n",
    "sw=stopwords.words('english')\n",
    "#Defining stopwords\n",
    "def stopwords(text):\n",
    "    '''a function for removing the stopword'''\n",
    "    text = [word for word in text.split() if word not in sw]\n",
    "    # joining the list of words with space separator\n",
    "    return \" \".join(text)\n",
    "# applying above function on text feature\n",
    "df['description']=df['description'].apply(stopwords)\n",
    "# this is how value in text looks like after removing stopwords\n",
    "df['description'][0]"
   ]
  },
  {
   "cell_type": "code",
   "execution_count": null,
   "metadata": {
    "id": "PhEKAnMPf27x"
   },
   "outputs": [],
   "source": [
    "# importing TfidVectorizer from sklearn library\n",
    "from sklearn.feature_extraction.text import TfidfVectorizer"
   ]
  },
  {
   "cell_type": "code",
   "execution_count": null,
   "metadata": {
    "colab": {
     "base_uri": "https://localhost:8080/"
    },
    "id": "CG48bUdtf2_M",
    "outputId": "102ca114-a938-4982-d7fd-d9b96ec45ca5"
   },
   "outputs": [],
   "source": [
    "#Applying Tfidf Vectorizer\n",
    "tfidfmodel = TfidfVectorizer(max_features=5000)\n",
    "X_tfidf = tfidfmodel.fit_transform(df['description'])\n",
    "X_tfidf.shape"
   ]
  },
  {
   "cell_type": "code",
   "execution_count": null,
   "metadata": {
    "id": "LLa8vLG3f3CA"
   },
   "outputs": [],
   "source": [
    "# convert X into array form for clustering\n",
    "X = X_tfidf.toarray()"
   ]
  },
  {
   "cell_type": "markdown",
   "metadata": {
    "id": "EcbbyM_KMXsP"
   },
   "source": [
    "# clustering algorithms"
   ]
  },
  {
   "cell_type": "markdown",
   "metadata": {
    "id": "YC8PaZFbMbyG"
   },
   "source": [
    "**1.Kmean**"
   ]
  },
  {
   "cell_type": "markdown",
   "metadata": {
    "id": "L6H-g2WI0R2y"
   },
   "source": [
    "Finding the optimal number of clusters using the elbow method"
   ]
  },
  {
   "cell_type": "code",
   "execution_count": null,
   "metadata": {
    "colab": {
     "base_uri": "https://localhost:8080/",
     "height": 314
    },
    "id": "6BoYAzQAgmZU",
    "outputId": "fcde0473-8e3e-4ea3-888a-fc020f6607b6"
   },
   "outputs": [],
   "source": [
    "#finding optimal number of clusters using the elbow method\n",
    "from sklearn.cluster import KMeans\n",
    "wcss_list= []  #Initializing the list for the values of WCSS\n",
    "\n",
    "#Using for loop for iterations from 1 to 30.\n",
    "for i in range(1, 30):\n",
    "    kmeans = KMeans(n_clusters=i, init='k-means++', random_state= 42)\n",
    "    kmeans.fit(X)\n",
    "    wcss_list.append(kmeans.inertia_)\n",
    "plt.plot(range(1, 30), wcss_list)\n",
    "plt.title('The Elobw Method Graph')\n",
    "plt.xlabel('Number of clusters(k)')\n",
    "plt.ylabel('wcss_list')\n",
    "plt.show()"
   ]
  },
  {
   "cell_type": "code",
   "execution_count": null,
   "metadata": {
    "colab": {
     "base_uri": "https://localhost:8080/"
    },
    "id": "8zLn6HwegmdB",
    "outputId": "d8a384b6-7aa4-41fc-d72a-a0fe56824cae"
   },
   "outputs": [],
   "source": [
    "from sklearn.metrics import silhouette_score\n",
    "#sillhoute score of clusters\n",
    "sill = []\n",
    "for i in range(2,30):\n",
    "    model = KMeans(n_clusters=i,init ='k-means++',random_state=51)\n",
    "    model.fit(X)\n",
    "    y1 = model.predict(X)\n",
    "    score = silhouette_score(X,y1)\n",
    "    sill.append(score)\n",
    "    print('cluster: %d \\t Sillhoute: %0.4f'%(i,score))"
   ]
  },
  {
   "cell_type": "code",
   "execution_count": null,
   "metadata": {
    "colab": {
     "base_uri": "https://localhost:8080/",
     "height": 294
    },
    "id": "7iLqVxwu2ISe",
    "outputId": "bc8e0306-88b8-43be-dea0-c066bc6e4f72"
   },
   "outputs": [],
   "source": [
    "#Plotting Sillhoute's score\n",
    "plt.plot(sill,'bs--')\n",
    "plt.xticks(list(range(0,30)),list(range(2,30)))\n",
    "plt.grid(),plt.xlabel('Number of cluster')\n",
    "plt.show()"
   ]
  },
  {
   "cell_type": "markdown",
   "metadata": {
    "id": "86tOBOU8NXh6"
   },
   "source": [
    "from elbow and sillhoute score ,forming 26 number of clusters"
   ]
  },
  {
   "cell_type": "code",
   "execution_count": null,
   "metadata": {
    "id": "J2HTh3JSgmf_"
   },
   "outputs": [],
   "source": [
    "#training the K-means model on a dataset\n",
    "kmeans = KMeans(n_clusters= 26, init='k-means++', random_state= 42)\n",
    "y_predict= kmeans.fit_predict(X)"
   ]
  },
  {
   "cell_type": "markdown",
   "metadata": {
    "id": "Tpes7J5eLvNU"
   },
   "source": [
    "**evaluation**"
   ]
  },
  {
   "cell_type": "code",
   "execution_count": null,
   "metadata": {
    "colab": {
     "base_uri": "https://localhost:8080/"
    },
    "id": "fNqOL5YGgmz3",
    "outputId": "9aaec0d2-cfb8-4fe3-e338-06f399b86607"
   },
   "outputs": [],
   "source": [
    "#Predict the clusters and evaluate the silhouette score\n",
    "\n",
    "score = silhouette_score(X, y_predict)\n",
    "print(\"Silhouette score is {}\".format(score))"
   ]
  },
  {
   "cell_type": "code",
   "execution_count": null,
   "metadata": {
    "colab": {
     "base_uri": "https://localhost:8080/"
    },
    "id": "7_LtlucysDXb",
    "outputId": "9f34da33-28eb-4819-b6cc-d568b504b7f2"
   },
   "outputs": [],
   "source": [
    "#davies_bouldin_score of our clusters\n",
    "from sklearn.metrics import davies_bouldin_score\n",
    "davies_bouldin_score(X, y_predict)"
   ]
  },
  {
   "cell_type": "code",
   "execution_count": null,
   "metadata": {
    "id": "f3aGtWN2gm3o"
   },
   "outputs": [],
   "source": [
    "#Adding a seperate column for the cluster\n",
    "df[\"cluster\"] = y_predict"
   ]
  },
  {
   "cell_type": "code",
   "execution_count": null,
   "metadata": {
    "colab": {
     "base_uri": "https://localhost:8080/"
    },
    "id": "rmqUCNEqkjQc",
    "outputId": "26357e6e-c54c-4bd9-f124-bf51f16fb90c"
   },
   "outputs": [],
   "source": [
    "df['cluster'].value_counts()"
   ]
  },
  {
   "cell_type": "code",
   "execution_count": null,
   "metadata": {
    "colab": {
     "base_uri": "https://localhost:8080/",
     "height": 421
    },
    "id": "pPrR1NY_kjTF",
    "outputId": "9a37d126-bd61-4cc2-a3e4-b46629a7ac3c"
   },
   "outputs": [],
   "source": [
    "fig, ax = plt.subplots(figsize=(15,6))\n",
    "sns.countplot(x='cluster', hue='type',lw=5, data=df, ax=ax)"
   ]
  },
  {
   "cell_type": "markdown",
   "metadata": {
    "id": "m4dt6bjzLfaJ"
   },
   "source": [
    "cluster 0 has the highest number of datapoints"
   ]
  },
  {
   "cell_type": "code",
   "execution_count": null,
   "metadata": {
    "colab": {
     "base_uri": "https://localhost:8080/",
     "height": 542
    },
    "id": "kkik6z84kjWN",
    "outputId": "97783ddd-36bf-4f7b-cdf7-6a8a88895382"
   },
   "outputs": [],
   "source": [
    "#SCATTER PLOT FOR CLUSTERS\n",
    "fig = px.scatter(df, y=\"description\", x=\"cluster\",color=\"cluster\")\n",
    "fig.update_traces(marker_size=100)\n",
    "fig.show()"
   ]
  },
  {
   "cell_type": "markdown",
   "metadata": {
    "id": "upa77_5zM7mE"
   },
   "source": [
    "**dendogram**"
   ]
  },
  {
   "cell_type": "code",
   "execution_count": null,
   "metadata": {
    "colab": {
     "base_uri": "https://localhost:8080/",
     "height": 508
    },
    "id": "fUbFI3BUPzAV",
    "outputId": "54c3867d-1b74-4403-fca9-2744a6a7704a"
   },
   "outputs": [],
   "source": [
    "import scipy.cluster.hierarchy as shc\n",
    "plt.figure(figsize =(8, 8))\n",
    "plt.title('Visualising the data')\n",
    "Dendrogram = shc.dendrogram((shc.linkage(X, method ='ward')))"
   ]
  },
  {
   "cell_type": "markdown",
   "metadata": {
    "id": "drAwiDCcMEFW"
   },
   "source": [
    "**2.AgglomerativeClustering**"
   ]
  },
  {
   "cell_type": "code",
   "execution_count": null,
   "metadata": {
    "id": "7BdKYimikjco"
   },
   "outputs": [],
   "source": [
    "#Fitting our variable in Agglomerative Clusters\n",
    "from sklearn.cluster import AgglomerativeClustering\n",
    "aggh = AgglomerativeClustering(n_clusters=6, affinity='euclidean', linkage='ward')\n",
    "aggh.fit(X)\n",
    "#Predicting using our model\n",
    "y_hc=aggh.fit_predict(X)"
   ]
  },
  {
   "cell_type": "code",
   "execution_count": null,
   "metadata": {
    "colab": {
     "base_uri": "https://localhost:8080/",
     "height": 337
    },
    "id": "Ih9hX5py7MEQ",
    "outputId": "334b9766-49f4-4658-fd39-a3ab1d837c40"
   },
   "outputs": [],
   "source": [
    "df_hierarchical =df.copy()\n",
    "#creating a column where each row is assigned to their separate cluster\n",
    "df_hierarchical['cluster'] = aggh.labels_\n",
    "df_hierarchical.head()"
   ]
  },
  {
   "cell_type": "markdown",
   "metadata": {
    "id": "WUzorqUqMLX7"
   },
   "source": [
    "**Evaluation**"
   ]
  },
  {
   "cell_type": "code",
   "execution_count": null,
   "metadata": {
    "colab": {
     "base_uri": "https://localhost:8080/"
    },
    "id": "OvYJy78v7MKq",
    "outputId": "997a7cad-4ea2-4f21-9858-76d839a4b73d"
   },
   "outputs": [],
   "source": [
    "#Silhouette Coefficient\n",
    "print(\"Silhouette Coefficient: %0.3f\"%silhouette_score(X,y_hc, metric='euclidean'))"
   ]
  },
  {
   "cell_type": "code",
   "execution_count": null,
   "metadata": {
    "colab": {
     "base_uri": "https://localhost:8080/"
    },
    "id": "np5x86nc3B3o",
    "outputId": "669f9fa7-b178-4eff-cd45-df3c8fd9afaa"
   },
   "outputs": [],
   "source": [
    "#davies_bouldin_score of our clusters\n",
    "from sklearn.metrics import davies_bouldin_score\n",
    "davies_bouldin_score(X, y_hc)"
   ]
  },
  {
   "cell_type": "markdown",
   "metadata": {
    "id": "gd9XKTzbMzCi"
   },
   "source": [
    "# conclusion"
   ]
  },
  {
   "cell_type": "markdown",
   "metadata": {
    "id": "gnlGOOLUOTnL"
   },
   "source": [
    "\n",
    "*  from elbow and sillhoute score ,optimal of 26 clusters formed , K Means is best for identification than Hierarchical as the evaluation metrics also indicates the same.in kmean cluster 0 has the highest number of datapoints\n",
    "and evnly distributed for other cluster\n",
    "*   Netflix has 5372 movies and 2398 TV shows,\n",
    "there are more   number movies on Netflix than TV shows.\n",
    "\n",
    "*   TV-MA has the highest number of ratings for tv shows i,e adult ratings\n",
    "\n",
    "*   highest number of movies released in 2017 and 2018\n",
    "highest number of movies released in 2020\n",
    "The number of movies on Netflix is growing significantly faster than the number of TV shows.\n",
    "We saw a huge increase in the number of movies and television episodes after 2015.\n",
    "there is a significant drop in the number of movies and television episodes produced after 2020.\n",
    "It appears that Netflix has focused more attention on increasing Movie content than TV Shows. Movies have increased much more dramatically than TV shows\n",
    "\n",
    "*    the most content is added to Netflix from october to january\n",
    "\n",
    "*   Documentaries are the top most genre in netflix which is fllowed by standup comedy and Drams and international movies\n",
    "*   kids tv is the top most  TV show genre in netflix\n",
    "\n",
    "\n",
    "*   most of the movies have duration of between 50 to 150\n",
    "\n",
    "\n",
    "*  highest number of tv_shows consistig of single season\n",
    "\n",
    "\n",
    "*   Those movies that have a rating of NC-17 have the longest average duration.\n",
    "\n",
    "When it comes to movies having a TV-Y rating, they have the shortest runtime on average\n",
    "\n",
    "\n",
    "*   unitated states has the highest number of content on the netflix ,followed    by india\n",
    "\n",
    "*  india has highest number of movies in netflix\n",
    "*   30% movies released on Netflix.\n",
    "70% movies added on Netflix were released earlier by different mode.\n",
    "\n",
    "\n",
    "\n"
   ]
  },
  {
   "cell_type": "code",
   "execution_count": null,
   "metadata": {
    "id": "KqJ_06_uQDI3"
   },
   "outputs": [],
   "source": []
  },
  {
   "cell_type": "code",
   "execution_count": null,
   "metadata": {
    "id": "MDeFhP_7QDWr"
   },
   "outputs": [],
   "source": []
  }
 ],
 "metadata": {
  "colab": {
   "collapsed_sections": [
    "JD_B3opJFoGF",
    "fCv-b5RQKtMR"
   ],
   "provenance": []
  },
  "kernelspec": {
   "display_name": "Python 3 (ipykernel)",
   "language": "python",
   "name": "python3"
  },
  "language_info": {
   "codemirror_mode": {
    "name": "ipython",
    "version": 3
   },
   "file_extension": ".py",
   "mimetype": "text/x-python",
   "name": "python",
   "nbconvert_exporter": "python",
   "pygments_lexer": "ipython3",
   "version": "3.11.5"
  }
 },
 "nbformat": 4,
 "nbformat_minor": 1
}
